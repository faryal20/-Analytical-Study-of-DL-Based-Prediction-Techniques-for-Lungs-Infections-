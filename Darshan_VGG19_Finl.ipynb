{
  "nbformat": 4,
  "nbformat_minor": 0,
  "metadata": {
    "colab": {
      "provenance": [],
      "authorship_tag": "ABX9TyMXO+Nc/rHK+SEra3CZ0Fe4",
      "include_colab_link": true
    },
    "kernelspec": {
      "name": "python3",
      "display_name": "Python 3"
    },
    "language_info": {
      "name": "python"
    },
    "accelerator": "GPU"
  },
  "cells": [
    {
      "cell_type": "markdown",
      "metadata": {
        "id": "view-in-github",
        "colab_type": "text"
      },
      "source": [
        "<a href=\"https://colab.research.google.com/github/faryal20/lungsInfection/blob/main/Darshan_VGG19_Finl.ipynb\" target=\"_parent\"><img src=\"https://colab.research.google.com/assets/colab-badge.svg\" alt=\"Open In Colab\"/></a>"
      ]
    },
    {
      "cell_type": "code",
      "execution_count": null,
      "metadata": {
        "id": "-aW8olG4aHK-",
        "colab": {
          "base_uri": "https://localhost:8080/"
        },
        "outputId": "cdbbaab2-c973-45ef-a041-91afc2298397"
      },
      "outputs": [
        {
          "output_type": "stream",
          "name": "stdout",
          "text": [
            "Looking in indexes: https://pypi.org/simple, https://us-python.pkg.dev/colab-wheels/public/simple/\n",
            "Requirement already satisfied: kaggle in /usr/local/lib/python3.7/dist-packages (1.5.12)\n",
            "Requirement already satisfied: python-dateutil in /usr/local/lib/python3.7/dist-packages (from kaggle) (2.8.2)\n",
            "Requirement already satisfied: tqdm in /usr/local/lib/python3.7/dist-packages (from kaggle) (4.64.1)\n",
            "Requirement already satisfied: six>=1.10 in /usr/local/lib/python3.7/dist-packages (from kaggle) (1.15.0)\n",
            "Requirement already satisfied: certifi in /usr/local/lib/python3.7/dist-packages (from kaggle) (2022.9.24)\n",
            "Requirement already satisfied: python-slugify in /usr/local/lib/python3.7/dist-packages (from kaggle) (6.1.2)\n",
            "Requirement already satisfied: requests in /usr/local/lib/python3.7/dist-packages (from kaggle) (2.23.0)\n",
            "Requirement already satisfied: urllib3 in /usr/local/lib/python3.7/dist-packages (from kaggle) (1.24.3)\n",
            "Requirement already satisfied: text-unidecode>=1.3 in /usr/local/lib/python3.7/dist-packages (from python-slugify->kaggle) (1.3)\n",
            "Requirement already satisfied: idna<3,>=2.5 in /usr/local/lib/python3.7/dist-packages (from requests->kaggle) (2.10)\n",
            "Requirement already satisfied: chardet<4,>=3.0.2 in /usr/local/lib/python3.7/dist-packages (from requests->kaggle) (3.0.4)\n"
          ]
        }
      ],
      "source": [
        "! pip install kaggle\n",
        "! mkdir ~/.kaggle\n",
        "! cp kaggle.json ~/.kaggle/"
      ]
    },
    {
      "cell_type": "code",
      "source": [
        "! chmod 600 ~/.kaggle/kaggle.json"
      ],
      "metadata": {
        "id": "YrD3-H8QLI8N"
      },
      "execution_count": null,
      "outputs": []
    },
    {
      "cell_type": "code",
      "source": [
        "! kaggle datasets download darshan1504/covid19-detection-xray-dataset"
      ],
      "metadata": {
        "colab": {
          "base_uri": "https://localhost:8080/"
        },
        "id": "X7JSTi_vLN-u",
        "outputId": "7b2d76b8-3cab-44a3-9c02-910207a1b346"
      },
      "execution_count": null,
      "outputs": [
        {
          "output_type": "stream",
          "name": "stdout",
          "text": [
            "Downloading covid19-detection-xray-dataset.zip to /content\n",
            " 91% 169M/186M [00:01<00:00, 99.0MB/s]\n",
            "100% 186M/186M [00:01<00:00, 97.9MB/s]\n"
          ]
        }
      ]
    },
    {
      "cell_type": "code",
      "source": [
        "!unzip -q /content/covid19-detection-xray-dataset.zip"
      ],
      "metadata": {
        "id": "_YsJAzF2LUjC"
      },
      "execution_count": null,
      "outputs": []
    },
    {
      "cell_type": "code",
      "source": [
        "# Commented out IPython magic to ensure Python compatibility.\n",
        "import os\n",
        "import glob\n",
        "import h5py\n",
        "import shutil\n",
        "import imgaug as aug #augment data\n",
        "import numpy as np # linear algebra\n",
        "import pandas as pd # data processing, CSV file I/O (e.g. pd.read_csv)\n",
        "import seaborn as sns\n",
        "import matplotlib.pyplot as plt #plot stuff/show images\n",
        "import matplotlib.image as mimg\n",
        "import imgaug.augmenters as iaa #augment data(data is imbalanced)\n",
        "from os import listdir, makedirs, getcwd, remove\n",
        "from os.path import isfile, join, abspath, exists, isdir, expanduser\n",
        "from PIL import Image\n",
        "from pathlib import Path #get data\n",
        "from skimage.io import imread\n",
        "from skimage.transform import resize\n",
        "from keras.models import Sequential, Model\n",
        "from keras.applications.vgg19 import VGG19, preprocess_input #transfer learning\n",
        "from tensorflow.keras.preprocessing.image import ImageDataGenerator,load_img, img_to_array\n",
        "from keras.models import Sequential\n",
        "from keras.layers import Conv2D, MaxPooling2D, Dense, Dropout, Input, Flatten, SeparableConv2D\n",
        "#convolutional nueral networks\n",
        "from keras.layers import GlobalMaxPooling2D\n",
        "from tensorflow.keras.layers import BatchNormalization\n",
        "# from keras.layers.merge import Concatenate\n",
        "from tensorflow.keras.layers import concatenate\n",
        "from keras.models import Model\n",
        "from tensorflow.keras.optimizers import Adam, SGD, RMSprop\n",
        "from keras.callbacks import ModelCheckpoint, Callback, EarlyStopping\n",
        "from tensorflow.keras.utils import to_categorical\n",
        "from sklearn.model_selection import train_test_split\n",
        "from sklearn.preprocessing import StandardScaler\n",
        "from mlxtend.plotting import plot_confusion_matrix\n",
        "from sklearn.metrics import confusion_matrix\n",
        "import cv2\n",
        "from keras import backend as K\n",
        "color = sns.color_palette()"
      ],
      "metadata": {
        "id": "6wsmgKnNLZ9D"
      },
      "execution_count": null,
      "outputs": []
    },
    {
      "cell_type": "code",
      "source": [
        "\n",
        "import tensorflow as tf\n",
        "\n",
        "device_name = tf.test.gpu_device_name()\n",
        "if device_name != '/device:GPU:0':\n",
        "  raise SystemError('GPU device not found')\n",
        "print('Found GPU at: {}'.format(device_name))\n",
        "tf.config.experimental.list_physical_devices('GPU')"
      ],
      "metadata": {
        "colab": {
          "base_uri": "https://localhost:8080/",
          "height": 235
        },
        "id": "jzaEywI1LjII",
        "outputId": "e6e235e3-ac0d-4f18-9a0f-3e10647d9aca"
      },
      "execution_count": null,
      "outputs": [
        {
          "output_type": "error",
          "ename": "SystemError",
          "evalue": "ignored",
          "traceback": [
            "\u001b[0;31m---------------------------------------------------------------------------\u001b[0m",
            "\u001b[0;31mSystemError\u001b[0m                               Traceback (most recent call last)",
            "\u001b[0;32m<ipython-input-8-dc9221e23986>\u001b[0m in \u001b[0;36m<module>\u001b[0;34m\u001b[0m\n\u001b[1;32m      3\u001b[0m \u001b[0mdevice_name\u001b[0m \u001b[0;34m=\u001b[0m \u001b[0mtf\u001b[0m\u001b[0;34m.\u001b[0m\u001b[0mtest\u001b[0m\u001b[0;34m.\u001b[0m\u001b[0mgpu_device_name\u001b[0m\u001b[0;34m(\u001b[0m\u001b[0;34m)\u001b[0m\u001b[0;34m\u001b[0m\u001b[0;34m\u001b[0m\u001b[0m\n\u001b[1;32m      4\u001b[0m \u001b[0;32mif\u001b[0m \u001b[0mdevice_name\u001b[0m \u001b[0;34m!=\u001b[0m \u001b[0;34m'/device:GPU:0'\u001b[0m\u001b[0;34m:\u001b[0m\u001b[0;34m\u001b[0m\u001b[0;34m\u001b[0m\u001b[0m\n\u001b[0;32m----> 5\u001b[0;31m   \u001b[0;32mraise\u001b[0m \u001b[0mSystemError\u001b[0m\u001b[0;34m(\u001b[0m\u001b[0;34m'GPU device not found'\u001b[0m\u001b[0;34m)\u001b[0m\u001b[0;34m\u001b[0m\u001b[0;34m\u001b[0m\u001b[0m\n\u001b[0m\u001b[1;32m      6\u001b[0m \u001b[0mprint\u001b[0m\u001b[0;34m(\u001b[0m\u001b[0;34m'Found GPU at: {}'\u001b[0m\u001b[0;34m.\u001b[0m\u001b[0mformat\u001b[0m\u001b[0;34m(\u001b[0m\u001b[0mdevice_name\u001b[0m\u001b[0;34m)\u001b[0m\u001b[0;34m)\u001b[0m\u001b[0;34m\u001b[0m\u001b[0;34m\u001b[0m\u001b[0m\n\u001b[1;32m      7\u001b[0m \u001b[0mtf\u001b[0m\u001b[0;34m.\u001b[0m\u001b[0mconfig\u001b[0m\u001b[0;34m.\u001b[0m\u001b[0mexperimental\u001b[0m\u001b[0;34m.\u001b[0m\u001b[0mlist_physical_devices\u001b[0m\u001b[0;34m(\u001b[0m\u001b[0;34m'GPU'\u001b[0m\u001b[0;34m)\u001b[0m\u001b[0;34m\u001b[0m\u001b[0;34m\u001b[0m\u001b[0m\n",
            "\u001b[0;31mSystemError\u001b[0m: GPU device not found"
          ]
        }
      ]
    },
    {
      "cell_type": "code",
      "source": [
        "#get data\n",
        "data_dir1 = Path('../content')\n",
        "data_dir2 = Path('../content/TrainData')\n",
        "data_dir3 = Path('../content/ValData')\n",
        "# data_dir4 = Path('../content/pneumonia-virus-vs-covid19/Pneumonia_and_COVID19')"
      ],
      "metadata": {
        "id": "15E6MitxLwZs"
      },
      "execution_count": null,
      "outputs": []
    },
    {
      "cell_type": "code",
      "source": [
        "data = []\n",
        "normal_data = []\n",
        "bacterial_data = []\n",
        "viral_data = []"
      ],
      "metadata": {
        "id": "MeY_T2Y-LyU1"
      },
      "execution_count": null,
      "outputs": []
    },
    {
      "cell_type": "code",
      "source": [
        "loop_dir2 = ['NonAugmentedTrain', 'ValData']\n",
        "for i in loop_dir2:\n",
        "    normal_dir2 = data_dir1 / i / 'Normal'\n",
        "    bacterial_dir2 = data_dir1 / i / 'BacterialPneumonia'\n",
        "    viral_dir2 = data_dir1 / i / 'ViralPneumonia'\n",
        "    normal_cases2 = normal_dir2.glob('*.jpeg')\n",
        "    bacterial_cases2 = bacterial_dir2.glob('*.jpeg')\n",
        "    viral_cases2 = viral_dir2.glob('*.jpeg')\n",
        "    for img in normal_cases2:\n",
        "        normal_data.append((img,0))\n",
        "    for img in bacterial_cases2:\n",
        "        bacterial_data.append((img,1))\n",
        "    for img in viral_cases2:\n",
        "        viral_data.append((img,2))"
      ],
      "metadata": {
        "id": "NPGnkLG2L55E"
      },
      "execution_count": null,
      "outputs": []
    },
    {
      "cell_type": "code",
      "source": [
        "print('number of normal cases: ' + str(len(normal_data)))\n",
        "print('number of bacterial cases: ' + str(len(bacterial_data)))\n",
        "print('number of viral cases: ' + str(len(viral_data)))"
      ],
      "metadata": {
        "id": "OAfpQ8w_MBFR"
      },
      "execution_count": null,
      "outputs": []
    },
    {
      "cell_type": "code",
      "source": [
        "loop_dir1 = ['NonAugmentedTrain', 'ValData']\n",
        "\n",
        "for i in loop_dir1:\n",
        "  print(i)\n",
        "  normal_dir1 = data_dir1 / i / 'Normal'\n",
        "  print(normal_dir1)\n",
        "  normal_cases2 = normal_dir2.glob('*.jpeg')\n",
        "  print(normal_cases2)\n",
        "for img in normal_cases2:\n",
        "  normal_data.append((img,0))\n",
        "  print(normal_data)"
      ],
      "metadata": {
        "id": "HaxGkVXUMGIU"
      },
      "execution_count": null,
      "outputs": []
    },
    {
      "cell_type": "code",
      "source": [
        "\n",
        "str(len(normal_data))\n",
        "\n",
        "data = normal_data + bacterial_data + viral_data\n",
        "del normal_data, bacterial_data, viral_data, data_dir1, data_dir2, data_dir3"
      ],
      "metadata": {
        "id": "3Bg-OAqUMT1O"
      },
      "execution_count": null,
      "outputs": []
    },
    {
      "cell_type": "code",
      "source": [
        "data = pd.DataFrame(data, columns=['image', 'label'],index=None)\n",
        "#shuffle\n",
        "data = data.sample(frac=1.).reset_index(drop=True)\n",
        "#print\n",
        "data.head()"
      ],
      "metadata": {
        "id": "nxyiPSR_MVRE"
      },
      "execution_count": null,
      "outputs": []
    },
    {
      "cell_type": "code",
      "source": [
        "# Get the counts for each class\n",
        "cases_count = data['label'].value_counts()\n",
        "print(cases_count)"
      ],
      "metadata": {
        "id": "6D0vyqDeMaXt"
      },
      "execution_count": null,
      "outputs": []
    },
    {
      "cell_type": "code",
      "source": [
        "# Plot the results\n",
        "plt.figure(figsize=(10,8))\n",
        "sns.barplot(x=cases_count.index, y= cases_count.values)\n",
        "plt.title('Number of cases', fontsize=14)\n",
        "plt.xlabel('Case type', fontsize=12)\n",
        "plt.ylabel('Count', fontsize=12)\n",
        "plt.xticks(range(len(cases_count.index)), ['Normal(0)', 'Bacterial(1)', 'Viral(2)'])\n",
        "plt.show()\n",
        "del cases_count"
      ],
      "metadata": {
        "id": "ezuJJdzUMgIa"
      },
      "execution_count": null,
      "outputs": []
    },
    {
      "cell_type": "code",
      "source": [
        "#show sample\n",
        "viral_samples = (data[data['label']==2]['image'].iloc[:5]).tolist()\n",
        "bacterial_samples = (data[data['label']==1]['image'].iloc[:5]).tolist()\n",
        "normal_samples = (data[data['label']==0]['image'].iloc[:5]).tolist()"
      ],
      "metadata": {
        "id": "_ii8x07tMlwu"
      },
      "execution_count": null,
      "outputs": []
    },
    {
      "cell_type": "code",
      "source": [
        "\n",
        "# Concat the data in a single list and del the above 3 lists\n",
        "samples = viral_samples + bacterial_samples + normal_samples\n",
        "del viral_samples, normal_samples, bacterial_sample"
      ],
      "metadata": {
        "id": "TP1FbKtGMrn5"
      },
      "execution_count": null,
      "outputs": []
    },
    {
      "cell_type": "code",
      "source": [
        "# Plot the data\n",
        "f, ax = plt.subplots(3,5, figsize=(30,15))\n",
        "for i in range(15):\n",
        "    img = imread(samples[i])\n",
        "    ax[i//5, i%5].imshow(img, cmap='gray')\n",
        "    if i<5:\n",
        "        ax[i//5, i%5].set_title(\"Viral\")\n",
        "    elif i>=5 and i<10:\n",
        "        ax[i//5, i%5].set_title(\"Bacterial\")\n",
        "    else:\n",
        "        ax[i//5, i%5].set_title(\"Normal\")\n",
        "    ax[i//5, i%5].axis('off')\n",
        "    ax[i//5, i%5].set_aspect('auto')\n",
        "plt.show()"
      ],
      "metadata": {
        "id": "dUm92Bm-MwIK"
      },
      "execution_count": null,
      "outputs": []
    },
    {
      "cell_type": "code",
      "source": [
        "data = data.iloc[: int(data.shape[0]/2)]\n",
        "print(data.shape)"
      ],
      "metadata": {
        "id": "rAZkcAZxNCm4"
      },
      "execution_count": null,
      "outputs": []
    },
    {
      "cell_type": "code",
      "source": [
        "image_data = []\n",
        "label_data = []\n",
        "for index, d in data.iterrows():\n",
        "    img = d['image']\n",
        "    l = d['label']\n",
        "    img = cv2.imread(str(img))\n",
        "    img = cv2.resize(img, (224,224))\n",
        "    if img.shape[2] ==1:\n",
        "        img = np.dstack([img, img, img])\n",
        "    img = cv2.cvtColor(img, cv2.COLOR_BGR2RGB)\n",
        "    img = img.astype(np.float32)/255.\n",
        "    label = to_categorical(l, num_classes=3)\n",
        "    image_data.append(img)\n",
        "    label_data.append(label)\n",
        "image_data = np.array(image_data)\n",
        "label_data = np.array(label_data)\n",
        "del data"
      ],
      "metadata": {
        "id": "jiWVOJCjNEEt"
      },
      "execution_count": null,
      "outputs": []
    },
    {
      "cell_type": "code",
      "source": [
        "image_train, image_validate, image_test = np.split(image_data, [int(.7*len(image_data)), int(.85*len(image_data))])\n",
        "label_train, label_validate, label_test = np.split(label_data, [int(.7*len(label_data)), int(.85*len(label_data))])\n",
        "print('number of training images and labels: ' + str(len(image_train)) + ' and ' + str(len(label_train)))\n",
        "print('number of validation images and labels: ' + str(len(image_validate)) + ' and ' + str(len(label_validate)))\n",
        "print('number of test images and labels: ' + str(len(image_test)) + ' and ' + str(len(label_test)))\n",
        "del image_data, label_data"
      ],
      "metadata": {
        "id": "AMHp6f9dNI4w"
      },
      "execution_count": null,
      "outputs": []
    },
    {
      "cell_type": "code",
      "source": [
        "base_model = VGG19(\n",
        "    input_shape=(224, 224, 3),\n",
        "    include_top=False,\n",
        "    weights=\"imagenet\"\n",
        ")\n",
        "base_model.trainable = True"
      ],
      "metadata": {
        "id": "_qTEt5_2NPr8"
      },
      "execution_count": null,
      "outputs": []
    },
    {
      "cell_type": "code",
      "source": [
        "\n",
        "len(base_model.layers)"
      ],
      "metadata": {
        "id": "TzINnd7_NXU-"
      },
      "execution_count": null,
      "outputs": []
    },
    {
      "cell_type": "code",
      "source": [
        "fine_tune = 20\n",
        "for layer in base_model.layers[:fine_tune]:\n",
        "    layer.trainable = False"
      ],
      "metadata": {
        "id": "37CTeDz_Ndj5"
      },
      "execution_count": null,
      "outputs": []
    },
    {
      "cell_type": "code",
      "source": [
        "early_stop=EarlyStopping(monitor='val_loss',patience=5, restore_best_weights=True)"
      ],
      "metadata": {
        "id": "FDUHAUdONidz"
      },
      "execution_count": null,
      "outputs": []
    },
    {
      "cell_type": "code",
      "source": [
        "from tensorflow import keras\n",
        "from tensorflow.keras import layers\n",
        "model = keras.Sequential([\n",
        "    base_model,\n",
        "    layers.Flatten(),\n",
        "    layers.Dense(3, activation = 'softmax')\n",
        "])"
      ],
      "metadata": {
        "id": "j15JC17oNpU4"
      },
      "execution_count": null,
      "outputs": []
    },
    {
      "cell_type": "code",
      "source": [
        "model.compile(\n",
        "    optimizer = tf.keras.optimizers.Adam(learning_rate = 0.0001),\n",
        "    loss = 'categorical_crossentropy',\n",
        "    metrics = 'accuracy'\n",
        ")\n",
        "model.summary()"
      ],
      "metadata": {
        "id": "sRUJINXPNz_g"
      },
      "execution_count": null,
      "outputs": []
    },
    {
      "cell_type": "code",
      "source": [
        "\n",
        "model.compile(loss='categorical_crossentropy',\n",
        "              optimizer= Adam(lr=0.0001, decay=1e-5),\n",
        "              metrics=['accuracy'])"
      ],
      "metadata": {
        "id": "jb86stwpN4HD"
      },
      "execution_count": null,
      "outputs": []
    },
    {
      "cell_type": "code",
      "source": [
        "early_stopping_monitor = EarlyStopping(\n",
        "    monitor='val_accuracy',\n",
        "    min_delta=0,\n",
        "    patience=4,\n",
        "    verbose=0,\n",
        "    mode='max',\n",
        "    baseline=None,\n",
        "    restore_best_weights=True\n",
        ")"
      ],
      "metadata": {
        "id": "aHg68ehMN8-m"
      },
      "execution_count": null,
      "outputs": []
    },
    {
      "cell_type": "code",
      "source": [
        "\n",
        "batch_size = 16\n",
        "with tf.device('/gpu:0'):\n",
        "    model.fit(image_train, label_train, \\\n",
        "                    validation_data=(image_validate, label_validate), \\\n",
        "                    epochs=20, callbacks=[early_stopping_monitor], batch_size=batch_size, verbose = 0)"
      ],
      "metadata": {
        "id": "DHrqbDgOOB-S"
      },
      "execution_count": null,
      "outputs": []
    },
    {
      "cell_type": "code",
      "source": [
        "test_loss, test_score = model.evaluate(image_test, label_test, batch_size=16)\n",
        "print(\"Loss on test set: \", test_loss)\n",
        "print(\"Accuracy on test set: \", test_score)"
      ],
      "metadata": {
        "id": "SN88SBu8OIhu"
      },
      "execution_count": null,
      "outputs": []
    },
    {
      "cell_type": "code",
      "source": [
        "\n",
        "# Get predictions\n",
        "preds = model.predict(image_test, batch_size=16)\n",
        "preds = np.argmax(preds, axis=-1)"
      ],
      "metadata": {
        "id": "agMBzjvZON3J"
      },
      "execution_count": null,
      "outputs": []
    },
    {
      "cell_type": "code",
      "source": [
        "# Original labels\n",
        "orig_test_labels = np.argmax(label_test, axis=-1)"
      ],
      "metadata": {
        "id": "R4QTgOxDOT4F"
      },
      "execution_count": null,
      "outputs": []
    },
    {
      "cell_type": "code",
      "source": [
        "print(orig_test_labels.shape)\n",
        "print(preds.shape"
      ],
      "metadata": {
        "id": "pzRyHarFObU6"
      },
      "execution_count": null,
      "outputs": []
    },
    {
      "cell_type": "code",
      "source": [
        "\n",
        "# Get the confusion matrix\n",
        "cm  = confusion_matrix(orig_test_labels, preds)\n",
        "plt.figure()\n",
        "plot_confusion_matrix(cm,figsize=(12,8), hide_ticks=True,cmap=plt.cm.Blues)\n",
        "plt.xticks(range(3), ['Normal', 'Bacterial', 'Viral'], fontsize=16)\n",
        "plt.yticks(range(3), ['Normal', 'Bacterial', 'Viral'], fontsize=16)\n",
        "plt.show()"
      ],
      "metadata": {
        "id": "cO4IR1JnOcSY"
      },
      "execution_count": null,
      "outputs": []
    },
    {
      "cell_type": "code",
      "source": [
        "\n",
        "nn, nb, nv, bn, bb, bv, vn, vb, vv = cm.ravel()\n",
        "normal_precision = nn/(nn+bn+vn)\n",
        "normal_recall = nn/(nn+nb+nv)\n",
        "bacterial_precision = bb/(nb+bb+vb)\n",
        "bacterial_recall = nn/(bn+bb+bv)\n",
        "viral_precision = nn/(nv+bv+vv)\n",
        "viral_recall = nn/(vn+vb+vv)\n",
        "print(\"Recall of the model when dealing with heathly lungs is {:.2f}\".format(normal_recall))\n",
        "print(\"Precision of the model when dealing with heathly lungs is {:.2f}\".format(normal_precision))\n",
        "print(\"Recall of the model when dealing with bacterial pneumonia is {:.2f}\".format(bacterial_recall))\n",
        "print(\"Precision of the model when dealing with bacterial pneumonia is {:.2f}\".format(bacterial_precision))\n",
        "print(\"Recall of the model when dealing with viral pneumonia is {:.2f}\".format(viral_recall))\n",
        "print(\"Precision of the model when dealing with viral pneumonia is {:.2f}\".format(viral_precision))"
      ],
      "metadata": {
        "id": "Upm3Ir57OkGI"
      },
      "execution_count": null,
      "outputs": []
    }
  ]
}